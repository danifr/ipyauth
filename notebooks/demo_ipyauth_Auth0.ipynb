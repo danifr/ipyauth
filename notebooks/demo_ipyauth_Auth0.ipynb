{
 "cells": [
  {
   "cell_type": "code",
   "execution_count": 1,
   "metadata": {},
   "outputs": [],
   "source": [
    "%load_ext autoreload\n",
    "%autoreload 2\n",
    "\n",
    "import json\n",
    "# import requests as rq\n",
    "\n",
    "from ipyauth import Auth, ParamsAuth0, ParamsGoogle\n",
    "\n",
    "# from ipyauth.ipyauth_widget._params import Parity"
   ]
  },
  {
   "cell_type": "code",
   "execution_count": 2,
   "metadata": {},
   "outputs": [
    {
     "name": "stdout",
     "output_type": "stream",
     "text": [
      "client_id=813774364274-m23lt715n2pb3ov5cnb3no543gappv8g.apps.googleusercontent.com\r\n"
     ]
    }
   ],
   "source": [
    "%cat ipyauth-Google-demo.env"
   ]
  },
  {
   "cell_type": "code",
   "execution_count": 3,
   "metadata": {},
   "outputs": [
    {
     "data": {
      "text/plain": [
       "{\n",
       "  \"name\": \"Google\",\n",
       "  \"authorize_endpoint\": \"https://accounts.google.com/o/oauth2/v2/auth\",\n",
       "  \"tokeninfo_endpoint\": \"https://www.googleapis.com/oauth2/v3/tokeninfo\",\n",
       "  \"token_endpoint\": \"https://www.googleapis.com/oauth2/v4/token\",\n",
       "  \"client_id\": \"813774364274-m23lt715n2pb3ov5cnb3no543gappv8g.apps.googleusercontent.com\",\n",
       "  \"redirect_uri\": \"http://localhost:8888/callback/\",\n",
       "  \"scope\": \"write:usual-fruit read:exotic-fruit\"\n",
       "}"
      ]
     },
     "execution_count": 3,
     "metadata": {},
     "output_type": "execute_result"
    }
   ],
   "source": [
    "p = ParamsGoogle(dotenv_file='ipyauth-Google-demo.env',\n",
    "                 redirect_uri='http://localhost:8888/callback/',\n",
    "                 scope='write:usual-fruit read:exotic-fruit')\n",
    "p"
   ]
  },
  {
   "cell_type": "code",
   "execution_count": 4,
   "metadata": {},
   "outputs": [],
   "source": [
    "# p.to_dict()"
   ]
  },
  {
   "cell_type": "code",
   "execution_count": 5,
   "metadata": {},
   "outputs": [
    {
     "name": "stdout",
     "output_type": "stream",
     "text": [
      "response_type=token\r\n",
      "domain=ipyauth-demo.eu.auth0.com\r\n",
      "client_id=Ji3wK7FP8kqK8qa2qBwTDQJR9V50bAxs\r\n",
      "redirect_uri=http://localhost:8888/callback/\r\n"
     ]
    }
   ],
   "source": [
    "%cat ipyauth-Auth0-demo.env"
   ]
  },
  {
   "cell_type": "code",
   "execution_count": 6,
   "metadata": {},
   "outputs": [
    {
     "data": {
      "text/plain": [
       "{\n",
       "  \"name\": \"Auth0\",\n",
       "  \"response_type\": \"token\",\n",
       "  \"authorize_endpoint\": \"https://ipyauth-demo.eu.auth0.com/authorize\",\n",
       "  \"client_id\": \"Ji3wK7FP8kqK8qa2qBwTDQJR9V50bAxs\",\n",
       "  \"redirect_uri\": \"http://localhost:8888/callback/\",\n",
       "  \"audience\": \"api/fruit\",\n",
       "  \"scope\": \"write:usual-fruit read:exotic-fruit\"\n",
       "}"
      ]
     },
     "execution_count": 6,
     "metadata": {},
     "output_type": "execute_result"
    }
   ],
   "source": [
    "p = ParamsAuth0(dotenv_file='ipyauth-Auth0-demo.env',\n",
    "                 audience='api/fruit',\n",
    "                 redirect_uri='http://localhost:8888/callback/',\n",
    "                 scope='write:usual-fruit read:exotic-fruit')\n",
    "p"
   ]
  },
  {
   "cell_type": "code",
   "execution_count": null,
   "metadata": {},
   "outputs": [],
   "source": []
  },
  {
   "cell_type": "code",
   "execution_count": null,
   "metadata": {},
   "outputs": [],
   "source": []
  },
  {
   "cell_type": "markdown",
   "metadata": {},
   "source": [
    "## Auth0 Params\n",
    "+ Make sure the redirect_uri (including **port**) is that of your notebook server"
   ]
  },
  {
   "cell_type": "code",
   "execution_count": 7,
   "metadata": {},
   "outputs": [],
   "source": [
    "# %cat ipyauth-Auth0-demo.env"
   ]
  },
  {
   "cell_type": "code",
   "execution_count": 8,
   "metadata": {},
   "outputs": [],
   "source": [
    "# p = ParamsAuth0(dotenv_file='ipyauth-Auth0-demo.env',\n",
    "#                  audience='api/fruit',\n",
    "#                  redirect_uri='http://localhost:8888/callback/',\n",
    "#                  scope='write:usual-fruit read:exotic-fruit')\n",
    "# p.to_dict()"
   ]
  },
  {
   "cell_type": "markdown",
   "metadata": {},
   "source": [
    "## Get Token"
   ]
  },
  {
   "cell_type": "code",
   "execution_count": 9,
   "metadata": {},
   "outputs": [
    {
     "data": {
      "application/vnd.jupyter.widget-view+json": {
       "model_id": "067ee1c4b8424bd8be39f62dfc8b6767",
       "version_major": 2,
       "version_minor": 0
      },
      "text/plain": [
       "Auth(children=(HBox(children=(Image(value=b'\\x89PNG\\r\\n\\x1a\\n\\x00\\x00\\x00\\rIHDR\\x00\\x00\\x02\\x12\\x00\\x00\\x00\\xc…"
      ]
     },
     "metadata": {},
     "output_type": "display_data"
    }
   ],
   "source": [
    "a = Auth(params=p)\n",
    "a"
   ]
  },
  {
   "cell_type": "code",
   "execution_count": 15,
   "metadata": {},
   "outputs": [
    {
     "data": {
      "text/plain": [
       "True"
      ]
     },
     "execution_count": 15,
     "metadata": {},
     "output_type": "execute_result"
    }
   ],
   "source": [
    "name = str(ParamsAuth0)\n",
    "'ipyauth.ipyauth_widget._params_' in name and '.Params' in name"
   ]
  },
  {
   "cell_type": "code",
   "execution_count": 12,
   "metadata": {},
   "outputs": [
    {
     "data": {
      "text/plain": [
       "\"<class 'ipyauth.ipyauth_widget._params_Auth0.ParamsAuth0'>\""
      ]
     },
     "execution_count": 12,
     "metadata": {},
     "output_type": "execute_result"
    }
   ],
   "source": [
    "'ipyauth.ipyauth_widget._params_' in str(ParamsAuth0)"
   ]
  },
  {
   "cell_type": "code",
   "execution_count": null,
   "metadata": {},
   "outputs": [],
   "source": [
    "a.show()"
   ]
  },
  {
   "cell_type": "code",
   "execution_count": null,
   "metadata": {},
   "outputs": [],
   "source": [
    "# a.clear()"
   ]
  },
  {
   "cell_type": "markdown",
   "metadata": {},
   "source": [
    "## API Calls\n",
    "### Get all fruits => Usual and exotic fruits are returned"
   ]
  },
  {
   "cell_type": "code",
   "execution_count": null,
   "metadata": {},
   "outputs": [],
   "source": [
    "token = a.access_token\n",
    "url = 'http://localhost:5000/api/fruit'\n",
    "headers = {'Authorization': 'Bearer {}'.format(token)}\n",
    "r = rq.get(url, headers=headers)\n",
    "res = r.content.decode('utf-8')\n",
    "data = json.loads(res)\n",
    "print(r.status_code)\n",
    "data"
   ]
  },
  {
   "cell_type": "markdown",
   "metadata": {},
   "source": [
    "### Try to add usual and exotic fruits => Only usual fruits are taken into account"
   ]
  },
  {
   "cell_type": "code",
   "execution_count": null,
   "metadata": {},
   "outputs": [],
   "source": [
    "token = a.access_token\n",
    "url = 'http://localhost:5000/api/fruit'\n",
    "headers = {'Authorization': 'Bearer {}'.format(token)}\n",
    "data = {'usual': ['pineapple', 'grapefruit', 'strawberry'], 'exotic': ['starfruit']}\n",
    "r = rq.post(url, headers=headers, json=data)\n",
    "res = r.content.decode('utf-8')\n",
    "data = json.loads(res)\n",
    "print(r.status_code)\n",
    "data"
   ]
  },
  {
   "cell_type": "markdown",
   "metadata": {},
   "source": [
    "### Get all fruits again => Confirm change in usual fruit list only"
   ]
  },
  {
   "cell_type": "code",
   "execution_count": null,
   "metadata": {},
   "outputs": [],
   "source": [
    "token = a.access_token\n",
    "url = 'http://localhost:5000/api/fruit'\n",
    "headers = {'Authorization': 'Bearer {}'.format(token)}\n",
    "r = rq.get(url, headers=headers)\n",
    "res = r.content.decode('utf-8')\n",
    "data = json.loads(res)\n",
    "print(r.status_code)\n",
    "data"
   ]
  },
  {
   "cell_type": "code",
   "execution_count": null,
   "metadata": {},
   "outputs": [],
   "source": []
  }
 ],
 "metadata": {
  "kernelspec": {
   "display_name": "Python 3",
   "language": "python",
   "name": "python3"
  },
  "language_info": {
   "codemirror_mode": {
    "name": "ipython",
    "version": 3
   },
   "file_extension": ".py",
   "mimetype": "text/x-python",
   "name": "python",
   "nbconvert_exporter": "python",
   "pygments_lexer": "ipython3",
   "version": "3.6.5"
  }
 },
 "nbformat": 4,
 "nbformat_minor": 2
}
